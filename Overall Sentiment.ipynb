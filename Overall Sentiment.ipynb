{
 "cells": [
  {
   "cell_type": "code",
   "execution_count": 1,
   "metadata": {},
   "outputs": [],
   "source": [
    "# Dependencies\n",
    "import tweepy\n",
    "import json\n",
    "import pandas as pd\n",
    "import numpy as np\n",
    "import matplotlib.pyplot as plt\n",
    "from config import (consumer_key, \n",
    "                    consumer_secret, \n",
    "                    access_token, \n",
    "                    access_token_secret)"
   ]
  },
  {
   "cell_type": "code",
   "execution_count": 2,
   "metadata": {},
   "outputs": [],
   "source": [
    "# Import and Initialize Sentiment Analyzer\n",
    "from vaderSentiment.vaderSentiment import SentimentIntensityAnalyzer\n",
    "analyzer = SentimentIntensityAnalyzer()"
   ]
  },
  {
   "cell_type": "code",
   "execution_count": 3,
   "metadata": {},
   "outputs": [],
   "source": [
    "# Setup Tweepy API Authentication\n",
    "auth = tweepy.OAuthHandler(consumer_key, consumer_secret)\n",
    "auth.set_access_token(access_token, access_token_secret)\n",
    "api = tweepy.API(auth, parser=tweepy.parsers.JSONParser())"
   ]
  },
  {
   "cell_type": "code",
   "execution_count": 4,
   "metadata": {},
   "outputs": [
    {
     "name": "stdout",
     "output_type": "stream",
     "text": [
      "News: @BBC\n",
      "Compound: 0.099\n",
      "News: @CBS\n",
      "Compound: 0.153\n",
      "News: @CNN\n",
      "Compound: 0.103\n",
      "News: @FoxNews\n",
      "Compound: 0.135\n",
      "News: @nytimes\n",
      "Compound: 0.067\n"
     ]
    }
   ],
   "source": [
    "# Target Search Term\n",
    "target_news = (\"@BBC\", \"@CBS\", \"@CNN\", \"@FoxNews\", \"@nytimes\")\n",
    "# Lists to hold sentiments\n",
    "results_list = []\n",
    "\n",
    "#Loop through each news\n",
    "for news in target_news:\n",
    "    compound_list = []\n",
    "    positive_list = []\n",
    "    negative_list = []\n",
    "    neutral_list = []\n",
    "\n",
    "    #Loop through 100 tweets\n",
    "    for x in range(5):\n",
    "        public_tweets = api.user_timeline(news, page = x)\n",
    "        for tweet in public_tweets:\n",
    "            results = analyzer.polarity_scores(tweet[\"text\"])\n",
    "            # Run Vader Analysis on each tweet\n",
    "            compound = results[\"compound\"]\n",
    "            pos = results[\"pos\"]\n",
    "            neu = results[\"neu\"]\n",
    "            neg = results[\"neg\"]\n",
    "\n",
    "            # Add each value to the appropriate array\n",
    "            compound_list.append(compound)\n",
    "            positive_list.append(pos)\n",
    "            negative_list.append(neg)\n",
    "            neutral_list.append(neu)\n",
    "    \n",
    "    #Dictionary of each news\n",
    "    news_results = {\n",
    "        \"News\": news,\n",
    "        \"Compound Score\": np.mean(compound_list),\n",
    "    }\n",
    "    \n",
    "    #Apend dictionary to list\n",
    "    results_list.append(news_results)\n",
    "    \n",
    "    print(f\"News: {news}\")\n",
    "    print(f\"Compound: {np.mean(compound_list):.3f}\")\n",
    " "
   ]
  },
  {
   "cell_type": "code",
   "execution_count": 5,
   "metadata": {},
   "outputs": [
    {
     "data": {
      "text/html": [
       "<div>\n",
       "<style scoped>\n",
       "    .dataframe tbody tr th:only-of-type {\n",
       "        vertical-align: middle;\n",
       "    }\n",
       "\n",
       "    .dataframe tbody tr th {\n",
       "        vertical-align: top;\n",
       "    }\n",
       "\n",
       "    .dataframe thead th {\n",
       "        text-align: right;\n",
       "    }\n",
       "</style>\n",
       "<table border=\"1\" class=\"dataframe\">\n",
       "  <thead>\n",
       "    <tr style=\"text-align: right;\">\n",
       "      <th></th>\n",
       "      <th>Compound Score</th>\n",
       "    </tr>\n",
       "    <tr>\n",
       "      <th>News</th>\n",
       "      <th></th>\n",
       "    </tr>\n",
       "  </thead>\n",
       "  <tbody>\n",
       "    <tr>\n",
       "      <th>@BBC</th>\n",
       "      <td>0.099</td>\n",
       "    </tr>\n",
       "    <tr>\n",
       "      <th>@CBS</th>\n",
       "      <td>0.153</td>\n",
       "    </tr>\n",
       "    <tr>\n",
       "      <th>@CNN</th>\n",
       "      <td>0.103</td>\n",
       "    </tr>\n",
       "    <tr>\n",
       "      <th>@FoxNews</th>\n",
       "      <td>0.135</td>\n",
       "    </tr>\n",
       "    <tr>\n",
       "      <th>@nytimes</th>\n",
       "      <td>0.067</td>\n",
       "    </tr>\n",
       "  </tbody>\n",
       "</table>\n",
       "</div>"
      ],
      "text/plain": [
       "          Compound Score\n",
       "News                    \n",
       "@BBC               0.099\n",
       "@CBS               0.153\n",
       "@CNN               0.103\n",
       "@FoxNews           0.135\n",
       "@nytimes           0.067"
      ]
     },
     "execution_count": 5,
     "metadata": {},
     "output_type": "execute_result"
    }
   ],
   "source": [
    "news_df = pd.DataFrame(results_list).set_index(\"News\").round(3)\n",
    "news_df"
   ]
  },
  {
   "cell_type": "code",
   "execution_count": 6,
   "metadata": {},
   "outputs": [
    {
     "data": {
      "image/png": "[encoded data removed]",
      "text/plain": [
       "<Figure size 432x288 with 1 Axes>"
      ]
     },
     "metadata": {},
     "output_type": "display_data"
    }
   ],
   "source": [
    "date_of_analysis = pd.Timestamp(\"today\").strftime(\"%m/%d/%Y\")\n",
    "y_axis = news_df[\"Compound Score\"]\n",
    "plt.bar(target_news,y_axis, align=\"center\",color=['skyblue', 'green', 'red', 'blue', 'yellow'])\n",
    "\n",
    "tick_locations = [value for value in target_news]\n",
    "plt.xticks(tick_locations, [\"BBC\", \"CBS\", \"CNN\", \"Fox\", \"NYT\"])\n",
    "\n",
    "plt.title(f\"Overall Media Sentiment based on Twitter ({date_of_analysis})\")\n",
    "plt.ylabel(\"Tweet Polarity\")\n",
    "\n",
    "\n",
    "#Save the figure\n",
    "plt.savefig(\"HW7_Overall_Sentiment.png\")"
   ]
  },
  {
   "cell_type": "code",
   "execution_count": null,
   "metadata": {},
   "outputs": [],
   "source": []
  }
 ],
 "metadata": {
  "kernelspec": {
   "display_name": "Python 3",
   "language": "python",
   "name": "python3"
  },
  "language_info": {
   "codemirror_mode": {
    "name": "ipython",
    "version": 3
   },
   "file_extension": ".py",
   "mimetype": "text/x-python",
   "name": "python",
   "nbconvert_exporter": "python",
   "pygments_lexer": "ipython3",
   "version": "3.6.5"
  },
  "nteract": {
   "version": "0.8.4"
  }
 },
 "nbformat": 4,
 "nbformat_minor": 2
}
